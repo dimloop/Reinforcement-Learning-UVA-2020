{
 "cells": [
  {
   "cell_type": "markdown",
   "id": "7dfc0aa9-f6b9-4311-97a4-2841a9bed42e",
   "metadata": {},
   "source": [
    "Parts of this assignment will be **automatically graded**. Please take note of the following:\n",
    "- Before you turn this problem in, make sure everything runs as expected. First, **restart the kernel** (in the menubar, select Kernel$\\rightarrow$Restart) and then **run all cells** (in the menubar, select Cell$\\rightarrow$Run All).\n",
    "- You can add additional cells, but it is not recommended to (re)move cells. Cells required for autograding cannot be moved and cells containing tests cannot be edited.\n",
    "- You are allowed to use a service such as [Google Colaboratory](https://colab.research.google.com/) to work together. However, you **cannot** hand in the notebook that was hosted on Google Colaboratory, but you need to copy your answers into the original notebook and verify that it runs succesfully offline. This is because Google Colaboratory destroys the metadata required for grading.\n",
    "- Name your notebook **exactly** `{TA_name}_{student1_id}_{student2_id}_lab{i}.ipynb`, for example `wouter_12345_67890_lab1.ipynb` (or elise or stephan, depending on your TA), **otherwise your submission will be skipped by our regex and you will get 0 points** (but no penalty as we cannot parse your student ids ;)).\n",
    "\n",
    "Make sure you fill in any place that says `YOUR CODE HERE` or \"YOUR ANSWER HERE\", as well as your names below:"
   ]
  },
  {
   "cell_type": "code",
   "execution_count": 1,
   "id": "e489ccae-4b75-4c65-b5d0-928b4327cc22",
   "metadata": {},
   "outputs": [],
   "source": [
    "NAMES = \"Dimitris Loupas\""
   ]
  },
  {
   "cell_type": "markdown",
   "id": "6551aaf0-738f-45dd-b557-e13c58db2485",
   "metadata": {},
   "source": [
    "---"
   ]
  },
  {
   "cell_type": "code",
   "execution_count": 2,
   "id": "e781dab6-7519-4340-bbfb-e5ecec709d59",
   "metadata": {},
   "outputs": [],
   "source": [
    "#%matplotlib inline\n",
    "import os\n",
    "import numpy as np\n",
    "import matplotlib.pyplot as plt\n",
    "import sys\n",
    "import torch\n",
    "from torch import nn\n",
    "import torch.nn.functional as F\n",
    "from torch import optim\n",
    "from tqdm import tqdm as _tqdm\n",
    "\n",
    "def tqdm(*args, **kwargs):\n",
    "    return _tqdm(*args, **kwargs, mininterval=1)  # Safety, do not overflow buffer\n",
    "\n",
    "EPS = float(np.finfo(np.float32).eps)\n",
    "\n",
    "assert sys.version_info[:3] >= (3, 6, 0), \"Make sure you have Python 3.6 installed!\""
   ]
  },
  {
   "cell_type": "markdown",
   "id": "8fc5f590-5ee7-40fe-be9c-409626dd42f2",
   "metadata": {},
   "source": [
    "---\n",
    "## 1. Deep Q-Network (DQN) (10 (+ 2 bonus) points)"
   ]
  },
  {
   "cell_type": "code",
   "execution_count": 5,
   "id": "fb36e8e6-cb06-4f99-b6e9-876cf8046169",
   "metadata": {},
   "outputs": [],
   "source": [
    "import gym\n",
    "env = gym.envs.make(\"CartPole-v0\")"
   ]
  },
  {
   "cell_type": "code",
   "execution_count": 6,
   "id": "f07168c3-7149-4b18-b1ea-9dd51a785a2f",
   "metadata": {},
   "outputs": [],
   "source": [
    "# env is a TimeLimit wrapper around an env, so use env.env to look into the env (but otherwise you can forget about this)\n",
    "??env.env"
   ]
  },
  {
   "cell_type": "code",
   "execution_count": 34,
   "id": "b078992a-f259-4ebe-baea-286f78ea5aab",
   "metadata": {},
   "outputs": [],
   "source": [
    "import time\n",
    "# The nice thing about the CARTPOLE is that it has very nice rendering functionality (if you are on a local environment). Let's have a look at an episode\n",
    "obs = env.reset()\n",
    "env.render()\n",
    "done = False\n",
    "while not done:\n",
    "    obs, reward, done, _ = env.step(env.action_space.sample())\n",
    "    env.render()\n",
    "    time.sleep(0.05)\n",
    "env.close()  # Close the environment or you will have a lot of render screens soon"
   ]
  },
  {
   "cell_type": "markdown",
   "id": "2ffa8bf2-b323-41f0-85d6-d48a0dc2cfe1",
   "metadata": {},
   "source": [
    "Remember from the previous lab, that in order to optimize a policy we need to estimate the Q-values (e.g. estimate the *action* values). In the CartPole problem, our state is current position of the cart, the current velocity of the cart, the current (angular) position of the pole and the (angular) speed of the pole. As these are continuous variables, we have an infinite number of states (ignoring the fact that a digital computer can only represent finitely many states in finite memory)."
   ]
  },
  {
   "cell_type": "markdown",
   "id": "c2dfdbf7-3284-4562-b607-6c39b49b6bc3",
   "metadata": {},
   "source": [
    "Can you think of a way in which we can still use a tabular approach? Why would this work and can you think of an example problem where this would not work?"
   ]
  },
  {
   "cell_type": "markdown",
   "id": "91be250e-722d-41bb-8e4b-b9eefb53b951",
   "metadata": {},
   "source": [
    "As in probability theory we can discretize a continuous probability distribution using bins, in the same way we can discretize a continuous state-action space using state aggregation and use a tabular approach. This helps to reduce the state space to a finite number of states which can fit in the memory. This proccess may yield good results using the methods described in the tabular cases. However, if we want to have high precission this would not work. For example if we had a problem that requires high precission of the state in order to take a high precission action state aggregation would not work."
   ]
  },
  {
   "cell_type": "markdown",
   "id": "e92441a3-5241-4e76-bd03-e4981fe9dee9",
   "metadata": {},
   "source": [
    "### 1.1 Implement Q-Network"
   ]
  },
  {
   "cell_type": "markdown",
   "id": "9ae5122a-feec-4e92-8c8f-718e0ab4b88b",
   "metadata": {},
   "source": [
    "We will not use the tabular approach but approximate the Q-value function by a general approximator function. We will skip the linear case and directly use a two layer Neural Network. We use [PyTorch](https://pytorch.org/) to implement the network, as this will allow us to train it easily later. We can implement a model using `torch.nn.Sequential`, but with PyTorch it is actually very easy to implement the model (e.g. the forward pass) from scratch. Now implement the `QNetwork.forward` function that uses one hidden layer with ReLU activation (no output activation)."
   ]
  },
  {
   "cell_type": "code",
   "execution_count": 8,
   "id": "fb61d340-d062-4baf-8423-9469fe9b49d0",
   "metadata": {},
   "outputs": [],
   "source": [
    "class QNetwork(nn.Module):\n",
    "    \n",
    "    def __init__(self, num_hidden=128):\n",
    "        nn.Module.__init__(self)\n",
    "        self.l1 = nn.Linear(4, num_hidden)\n",
    "        self.l2 = nn.Linear(num_hidden, 2)\n",
    "        self.act = nn.ReLU()\n",
    "    \n",
    "    def forward(self, x):\n",
    "        x = self.l1(x)\n",
    "        x = self.act(x)\n",
    "        out = self.l2(x)\n",
    "        \n",
    "        return out"
   ]
  },
  {
   "cell_type": "code",
   "execution_count": 9,
   "id": "1e6bb1f4-ab4e-4f9d-8c8b-b66de146912b",
   "metadata": {},
   "outputs": [],
   "source": [
    "# Let's instantiate and test if it works\n",
    "num_hidden = 128\n",
    "torch.manual_seed(1234)\n",
    "model = QNetwork(num_hidden)\n",
    "\n",
    "torch.manual_seed(1234)\n",
    "test_model = nn.Sequential(\n",
    "    nn.Linear(4, num_hidden), \n",
    "    nn.ReLU(), \n",
    "    nn.Linear(num_hidden, 2)\n",
    ")\n",
    "\n",
    "x = torch.rand(10, 4)\n",
    "\n",
    "# If you do not need backpropagation, wrap the computation in the torch.no_grad() context\n",
    "# This saves time and memory, and PyTorch complaints when converting to numpy\n",
    "with torch.no_grad():\n",
    "    assert np.allclose(model(x).numpy(), test_model(x).numpy())"
   ]
  },
  {
   "cell_type": "markdown",
   "id": "0c269ae7-196c-4fb0-8a96-08ed44355fba",
   "metadata": {},
   "source": [
    "### 1.2 Experience Replay"
   ]
  },
  {
   "cell_type": "markdown",
   "id": "d2f85eee-46c4-47fc-b552-06ff7fa7829c",
   "metadata": {},
   "source": [
    "What could be a problem with doing gradient updates on a sequence of state, action pairs $((s_t, a_t), (s_{t+1}, a_{t+1}) ...)$ observed while interacting with the environment? How will using *experience replay* help to overcome this (potential problem)?"
   ]
  },
  {
   "cell_type": "markdown",
   "id": "9227f1c5-9c2b-4588-a744-2657a3303532",
   "metadata": {},
   "source": [
    "The problem of doing gradient updates on a sequence of state-action pairs  is that those updates are corralated to each other increasing the variance of the algorithm and may cause instabilities. Experience replay helps because we sample from the history trajectory at random, hence avoiding the correlations (iid). "
   ]
  },
  {
   "cell_type": "markdown",
   "id": "4525fda8-776c-4209-8b21-a062d0f03bfd",
   "metadata": {},
   "source": [
    "Now implement the `push` function that adds a transition to the replay buffer, and the sample function that returns a batch of samples. It should keep at most the maximum number of transitions. Also implement the `sample` function that samples a (random!) batch of data, for use during training (hint: you can use the function `random.sample`)."
   ]
  },
  {
   "cell_type": "code",
   "execution_count": 10,
   "id": "dd439329-642b-4ad5-94d4-3c0b4babfb28",
   "metadata": {},
   "outputs": [],
   "source": [
    "import random\n",
    "class ReplayMemory:\n",
    "    \n",
    "    def __init__(self, capacity):\n",
    "        self.capacity = capacity\n",
    "        self.memory = []\n",
    "\n",
    "    def push(self, transition):\n",
    "        self.memory.append(transition)\n",
    "        if len(self.memory) == self.capacity:\n",
    "            self.memory = self.memory[1:]\n",
    "\n",
    "    def sample(self, batch_size):\n",
    "        return random.sample(self.memory, batch_size)\n",
    "\n",
    "    def __len__(self):\n",
    "        return len(self.memory)"
   ]
  },
  {
   "cell_type": "code",
   "execution_count": 11,
   "id": "da1f904d-b395-490e-b4c1-8efc8373c33f",
   "metadata": {},
   "outputs": [
    {
     "name": "stdout",
     "output_type": "stream",
     "text": [
      "[(array([0.0107796 , 0.04910905, 0.03270142, 0.03705489], dtype=float32), 0, 1.0, array([ 0.01176178, -0.14646621,  0.03344252,  0.33987343], dtype=float32), False)]\n"
     ]
    }
   ],
   "source": [
    "capacity = 10\n",
    "memory = ReplayMemory(capacity)\n",
    "\n",
    "# Sample a transition\n",
    "s = env.reset()\n",
    "a = env.action_space.sample()\n",
    "s_next, r, done, _ = env.step(a)\n",
    "\n",
    "# Push a transition\n",
    "memory.push((s, a, r, s_next, done))\n",
    "\n",
    "# Sample a batch size of 1\n",
    "print(memory.sample(1))"
   ]
  },
  {
   "cell_type": "markdown",
   "id": "0ce01ebc-4745-4bee-bf3f-c886f5c82792",
   "metadata": {},
   "source": [
    "### 1.3 $\\epsilon$psilon greedy policy"
   ]
  },
  {
   "cell_type": "markdown",
   "id": "4f3f36ea-4469-4541-984c-228b00c469c9",
   "metadata": {},
   "source": [
    "In order to learn a good policy, we need to explore quite a bit initially. As we start to learn a good policy, we want to decrease the exploration. As the amount of exploration using an $\\epsilon$-greedy policy is controlled by $\\epsilon$, we can define an 'exploration scheme' by writing $\\epsilon$ as a function of time. There are many possible schemes, but we will use a simple one: we will start with only exploring (so taking random actions) at iteration 0, and then in 1000 iterations linearly anneal $\\epsilon$ such that after 1000 iterations we take random (exploration) actions with 5\\% probability (forever, as you never know if the environment will change)."
   ]
  },
  {
   "cell_type": "code",
   "execution_count": 12,
   "id": "465e6640-658a-45c9-a202-8dd11788d9eb",
   "metadata": {},
   "outputs": [],
   "source": [
    "def get_epsilon(it):\n",
    "    return .05 if it > 1000 else (1- it * 0.95 /1000)"
   ]
  },
  {
   "cell_type": "code",
   "execution_count": 13,
   "id": "1b133bf1-f501-4078-be58-b6f004d2bd36",
   "metadata": {},
   "outputs": [
    {
     "data": {
      "text/plain": [
       "[<matplotlib.lines.Line2D at 0x1300c97f0>]"
      ]
     },
     "execution_count": 13,
     "metadata": {},
     "output_type": "execute_result"
    },
    {
     "data": {
      "image/png": "[encoded data removed]",
      "text/plain": [
       "<Figure size 432x288 with 1 Axes>"
      ]
     },
     "metadata": {
      "needs_background": "light"
     },
     "output_type": "display_data"
    }
   ],
   "source": [
    "# So what's an easy way to check?\n",
    "plt.plot([get_epsilon(it) for it in range(5000)])"
   ]
  },
  {
   "cell_type": "markdown",
   "id": "e1c916a1-aadd-4d85-944e-922e6a1552d9",
   "metadata": {},
   "source": [
    "Now write a function that takes a state and uses the Q-network to select an ($\\epsilon$-greedy) action. It should return a random action with probability epsilon (which we will pass later). Note, you do not need to backpropagate through the model computations, so use `with torch.no_grad():` (see above for example). Unlike numpy, PyTorch has no argmax function, but Google is your friend... Note that to convert a PyTorch tensor with only 1 element (0 dimensional) to a simple python scalar (int or float), you can use the '.item()' function."
   ]
  },
  {
   "cell_type": "code",
   "execution_count": 14,
   "id": "8ee537a6-2fc6-485e-846b-d75b3f4fc9a3",
   "metadata": {},
   "outputs": [],
   "source": [
    "def select_action(model, state, epsilon):\n",
    "    with torch.no_grad():\n",
    "        actions = model(torch.Tensor(state))\n",
    "        nA = actions.shape[0]\n",
    "        argmax = torch.argmax(actions).item()\n",
    "        probs = epsilon/nA*np.ones(nA)\n",
    "        probs[argmax] = 1 - epsilon + epsilon/nA\n",
    "        return np.random.choice(range(nA), p=probs)\n"
   ]
  },
  {
   "cell_type": "code",
   "execution_count": 15,
   "id": "c3dd36dd-4706-4c7f-9ecf-5bba23b97084",
   "metadata": {},
   "outputs": [
    {
     "name": "stdout",
     "output_type": "stream",
     "text": [
      "1\n"
     ]
    }
   ],
   "source": [
    "s = env.reset()\n",
    "a = select_action(model, s, 0.05)\n",
    "assert not torch.is_tensor(a)\n",
    "print (a)\n"
   ]
  },
  {
   "cell_type": "markdown",
   "id": "2b4c5cdf-dcb8-419c-9606-653daa999886",
   "metadata": {},
   "source": [
    "### 1.4 Training function"
   ]
  },
  {
   "cell_type": "markdown",
   "id": "04a1d72e-8b34-4a75-b5ce-8582101a98df",
   "metadata": {},
   "source": [
    "Now we will implement the function 'train' that samples a batch from the memory and performs a gradient step using some convenient PyTorch functionality. However, you still need to compute the Q-values for the (state, action) pairs in the experience, as well as their target (e.g. the value they should move towards). What is the target for a Q-learning update? What should be the target if `next_state` is terminal (e.g. `done`)?\n",
    "\n",
    "The target is of the form $t = r + \\gamma Q(s',a')$. If `next_state` is terminal then t = r.\n",
    "\n",
    "For computing the Q-values for the actions, note that the model returns all action values where you are only interested in a single action value. Because of the batch dimension, you can't use simple indexing, but you may want to have a look at [torch.gather](https://pytorch.org/docs/stable/torch.html?highlight=gather#torch.gather) or use [advanced indexing](https://docs.scipy.org/doc/numpy-1.13.0/reference/arrays.indexing.html) (numpy tutorial but works mostly the same in PyTorch). Note, you should NOT modify the function train. You can view the size of a tensor `x` with `x.size()` (similar to `x.shape` in numpy)."
   ]
  },
  {
   "cell_type": "code",
   "execution_count": 16,
   "id": "914b5d3e-8344-4b2f-80d5-e0da43b07060",
   "metadata": {},
   "outputs": [],
   "source": [
    "def compute_q_val(model, state, action):\n",
    "    Q_vals = model(state)\n",
    "    return torch.gather(Q_vals, 1, action.unsqueeze(-1)).reshape(-1)\n",
    "    \n",
    "def compute_target(model, reward, next_state, done, discount_factor):\n",
    "    # done is a boolean (vector) that indicates if next_state is terminal (episode is done)\n",
    "    # YOUR CODE HERE\n",
    "    Q_valsNext = model(next_state) #Q vals in next state\n",
    "    target = reward + discount_factor * torch.max(Q_valsNext, 1)[0] * (1 - done.type(torch.FloatTensor)) #if done dont update\n",
    "    return target\n",
    "    \n",
    "\n",
    "def train(model, memory, optimizer, batch_size, discount_factor):\n",
    "    # DO NOT MODIFY THIS FUNCTION\n",
    "    \n",
    "    # don't learn without some decent experience\n",
    "    if len(memory) < batch_size:\n",
    "        return None\n",
    "\n",
    "    # random transition batch is taken from experience replay memory\n",
    "    transitions = memory.sample(batch_size)\n",
    "    \n",
    "    # transition is a list of 4-tuples, instead we want 4 vectors (as torch.Tensor's)\n",
    "    state, action, reward, next_state, done = zip(*transitions)\n",
    "    \n",
    "    # convert to PyTorch and define types\n",
    "    state = torch.tensor(state, dtype=torch.float)\n",
    "    action = torch.tensor(action, dtype=torch.int64)  # Need 64 bit to use them as index\n",
    "    next_state = torch.tensor(next_state, dtype=torch.float)\n",
    "    reward = torch.tensor(reward, dtype=torch.float)\n",
    "    done = torch.tensor(done, dtype=torch.uint8)  # Boolean\n",
    "    \n",
    "    # compute the q value\n",
    "    q_val = compute_q_val(model, state, action)\n",
    "    \n",
    "    with torch.no_grad():  # Don't compute gradient info for the target (semi-gradient)\n",
    "        target = compute_target(model, reward, next_state, done, discount_factor)\n",
    "    \n",
    "    # loss is measured from error between current and newly expected Q values\n",
    "    loss = F.smooth_l1_loss(q_val, target)\n",
    "\n",
    "    # backpropagation of loss to Neural Network (PyTorch magic)\n",
    "    optimizer.zero_grad()\n",
    "    loss.backward()\n",
    "    optimizer.step()\n",
    "    \n",
    "    return loss.item()  # Returns a Python scalar, and releases history (similar to .detach())"
   ]
  },
  {
   "cell_type": "code",
   "execution_count": 17,
   "id": "fe04a5cc-2869-4995-8b7e-b75fb767656f",
   "metadata": {},
   "outputs": [
    {
     "name": "stdout",
     "output_type": "stream",
     "text": [
      "0.5958824157714844\n"
     ]
    }
   ],
   "source": [
    "# You may want to test your functions individually, but after you do so lets see if the method train works.\n",
    "batch_size = 64\n",
    "discount_factor = 0.8\n",
    "learn_rate = 1e-3\n",
    "# Simple gradient descent may take long, so we will use Adam\n",
    "optimizer = optim.Adam(model.parameters(), learn_rate)\n",
    "\n",
    "# We need a larger memory, fill with dummy data\n",
    "transition = memory.sample(1)[0]\n",
    "memory = ReplayMemory(10 * batch_size)\n",
    "for i in range(batch_size):\n",
    "    memory.push(transition)\n",
    "\n",
    "# Now let's see if it works\n",
    "loss = train(model, memory, optimizer, batch_size, discount_factor)\n",
    "\n",
    "print (loss)\n"
   ]
  },
  {
   "cell_type": "markdown",
   "id": "ceab4c2b-1fb6-4f42-acfc-3f3391d992aa",
   "metadata": {},
   "source": [
    "### 1.5 Put it all together"
   ]
  },
  {
   "cell_type": "markdown",
   "id": "55487410-5a98-46ad-a229-e4526c083dd8",
   "metadata": {},
   "source": [
    "Now that you have implemented the training step, you should be able to put everything together. Implement the function `run_episodes` that runs a number of episodes of DQN training. It should return the durations (e.g. number of steps) of each episode. Note: we pass the train function as an argument such that we can swap it for a different training step later."
   ]
  },
  {
   "cell_type": "code",
   "execution_count": 18,
   "id": "1327fe1a-ec49-4df3-9281-ad880f25ef0f",
   "metadata": {},
   "outputs": [],
   "source": [
    "def run_episodes(train, model, memory, env, num_episodes, batch_size, discount_factor, learn_rate):\n",
    "    \n",
    "    optimizer = optim.Adam(model.parameters(), learn_rate)\n",
    "    \n",
    "    global_steps = 0  # Count the steps (do not reset at episode start, to compute epsilon)\n",
    "    episode_durations = []  #\n",
    "    for i in range(num_episodes):\n",
    "        s = env.reset()\n",
    "        done = False\n",
    "        duration = 0\n",
    "        while not done:\n",
    "            epsilon = get_epsilon(global_steps)\n",
    "            a = select_action(model, s, epsilon)\n",
    "            s_next, r, done, _ = env.step(a)\n",
    "            memory.push((s, a, r, s_next, done))\n",
    "            \n",
    "            train(model, memory, optimizer, batch_size, discount_factor)\n",
    "            \n",
    "            s = s_next\n",
    "            duration += 1\n",
    "            global_steps += 1\n",
    "            \n",
    "        env.close()\n",
    "        episode_durations.append(duration)\n",
    "        \n",
    "    return episode_durations"
   ]
  },
  {
   "cell_type": "code",
   "execution_count": 20,
   "id": "8f5e817f-9d83-4775-bb1f-737c2bd95438",
   "metadata": {},
   "outputs": [],
   "source": [
    "# Let's run it!\n",
    "num_episodes = 100\n",
    "batch_size = 64\n",
    "discount_factor = 0.8\n",
    "learn_rate = 1e-3\n",
    "memory = ReplayMemory(10000)\n",
    "num_hidden = 128\n",
    "seed = 42  # This is not randomly chosen\n",
    "\n",
    "# We will seed the algorithm (before initializing QNetwork!) for reproducability\n",
    "random.seed(seed)\n",
    "torch.manual_seed(seed)\n",
    "env.seed(seed)\n",
    "\n",
    "model = QNetwork(num_hidden)\n",
    "\n",
    "episode_durations = run_episodes(train, model, memory, env, num_episodes, batch_size, discount_factor, learn_rate)"
   ]
  },
  {
   "cell_type": "code",
   "execution_count": 21,
   "id": "bfbf4190-3e5e-487d-86c8-65a597ff8843",
   "metadata": {},
   "outputs": [
    {
     "data": {
      "text/plain": [
       "Text(0.5, 1.0, 'Episode durations per episode')"
      ]
     },
     "execution_count": 21,
     "metadata": {},
     "output_type": "execute_result"
    },
    {
     "data": {
      "image/png": "[encoded data removed]",
      "text/plain": [
       "<Figure size 432x288 with 1 Axes>"
      ]
     },
     "metadata": {
      "needs_background": "light"
     },
     "output_type": "display_data"
    }
   ],
   "source": [
    "# And see the results\n",
    "def smooth(x, N):\n",
    "    cumsum = np.cumsum(np.insert(x, 0, 0)) \n",
    "    return (cumsum[N:] - cumsum[:-N]) / float(N)\n",
    "\n",
    "plt.plot(smooth(episode_durations, 10))\n",
    "plt.title('Episode durations per episode')\n"
   ]
  },
  {
   "cell_type": "markdown",
   "id": "8a89864e-7c0a-4e5c-b302-a0c144700fb4",
   "metadata": {},
   "source": [
    "### 1.6 Semi-gradient vs. true gradient (bonus)"
   ]
  },
  {
   "cell_type": "markdown",
   "id": "b543f04f-eb3e-4c29-8edc-ffc842fc834a",
   "metadata": {},
   "source": [
    "Note that by using automatic differentiation in PyTorch, it is (relatively) easy to implement the true gradient method. Hint: PyTorch may complain about computing gradients for the target in [smooth_l1_loss](https://pytorch.org/docs/stable/nn.html?highlight=smooth_l1_loss#torch.nn.functional.smooth_l1_loss). How can you circumvent this problem? Implement the `train_true_gradient` method below."
   ]
  },
  {
   "cell_type": "code",
   "execution_count": 23,
   "id": "0ee649f1-662b-4692-8824-7dbc18fff996",
   "metadata": {},
   "outputs": [
    {
     "data": {
      "text/plain": [
       "<matplotlib.legend.Legend at 0x1326d77f0>"
      ]
     },
     "execution_count": 23,
     "metadata": {},
     "output_type": "execute_result"
    },
    {
     "data": {
      "image/png": "[encoded data removed]",
      "text/plain": [
       "<Figure size 432x288 with 1 Axes>"
      ]
     },
     "metadata": {
      "needs_background": "light"
     },
     "output_type": "display_data"
    }
   ],
   "source": [
    "def train_true_gradient(model, memory, optimizer, batch_size, discount_factor):\n",
    "    \n",
    "    # don't learn without some decent experience\n",
    "    if len(memory) < batch_size:\n",
    "        return None\n",
    "\n",
    "    # random transition batch is taken from experience replay memory\n",
    "    transitions = memory.sample(batch_size)\n",
    "    \n",
    "    # transition is a list of 4-tuples, instead we want 4 vectors (as torch.Tensor's)\n",
    "    state, action, reward, next_state, done = zip(*transitions)\n",
    "    \n",
    "    # convert to PyTorch and define types\n",
    "    state = torch.tensor(state, dtype=torch.float)\n",
    "    action = torch.tensor(action, dtype=torch.int64)  # Need 64 bit to use them as index\n",
    "    next_state = torch.tensor(next_state, dtype=torch.float)\n",
    "    reward = torch.tensor(reward, dtype=torch.float)\n",
    "    done = torch.tensor(done, dtype=torch.uint8)  # Boolean\n",
    "    \n",
    "    # compute the q value\n",
    "    q_val = compute_q_val(model, state, action)\n",
    "    \n",
    "    target = compute_target(model, reward, next_state, done, discount_factor)\n",
    "    \n",
    "    # loss is measured from error between current and newly expected Q values\n",
    "    loss = F.smooth_l1_loss(target - q_val, torch.zeros_like(q_val))\n",
    "\n",
    "    # backpropagation of loss to Neural Network (PyTorch magic)\n",
    "    optimizer.zero_grad()\n",
    "    loss.backward()\n",
    "    optimizer.step()\n",
    "    \n",
    "    return loss.item()  # Returns a Python scalar, and releases history (similar to .detach())\n",
    "\n",
    "random.seed(seed)\n",
    "torch.manual_seed(seed)\n",
    "env.seed(seed)\n",
    "\n",
    "model = QNetwork(num_hidden)\n",
    "\n",
    "episode_durations_true_gradient = run_episodes(\n",
    "    train_true_gradient, model, memory, env, num_episodes, batch_size, discount_factor, learn_rate)\n",
    "\n",
    "plt.plot(smooth(episode_durations, 10))\n",
    "plt.plot(smooth(episode_durations_true_gradient, 10))\n",
    "plt.title('Episode durations per episode')\n",
    "plt.legend(['Semi-gradient', 'True gradient'])"
   ]
  },
  {
   "cell_type": "markdown",
   "id": "da16b068-7987-4dca-bf40-82a32bfff2cf",
   "metadata": {},
   "source": [
    "Which algorithm performs better? Is this what you would expect? Can you explain this?\n",
    "\n",
    "Note: you may want to play around with the number of episodes to answer this question, but please reset it to 100 before handing in the notebook."
   ]
  },
  {
   "cell_type": "markdown",
   "id": "b9252e4e-b57e-42b1-ab40-0e961e942eb9",
   "metadata": {},
   "source": [
    "As we can see from our experiments true gradient performs better than semi gradient method. This is expected because the update now takes into account the information of the gradient of the target, whereas in semi gradient only the gradient of the Q values is considered. Semi gradent methods take into account the effect of changing the weight vector on the estimate but ingnore its effect on the tagret. This difference implies that semi gradient methods do not converge as robustly as true gradient methods."
   ]
  },
  {
   "cell_type": "markdown",
   "id": "3fa3c33e-8da9-49f9-8053-d4b2a7ef8900",
   "metadata": {},
   "source": [
    "---\n",
    "\n",
    "## 2. Policy Gradient (8 points)"
   ]
  },
  {
   "cell_type": "markdown",
   "id": "710fab70-bbe6-4ae4-ba26-9a39dcf16e38",
   "metadata": {},
   "source": [
    "So we have spent a lot of time working on *value based* methods. We will now switch to *policy based* methods, i.e. learn a policy directly rather than learn a value function from which the policy follows. Mention two advantages of using a policy based method."
   ]
  },
  {
   "cell_type": "markdown",
   "id": "82cff098-9040-4766-9972-0f784e72a154",
   "metadata": {},
   "source": [
    "Two advantages of using policy based methods are:\n",
    "- Using policy based methods we learn automatically a stochastic policy while in value based methods we always learn a greedy one and it up to us to include stochasticity via epsilon greedy policies.\n",
    "- With policy based methods we can include prior knowledge about the expected form of the policy into the learning proccess. \n"
   ]
  },
  {
   "cell_type": "markdown",
   "id": "34d23439-bfe1-4514-912b-616015fe5b26",
   "metadata": {},
   "source": [
    "### 2.1 Policy Network"
   ]
  },
  {
   "cell_type": "markdown",
   "id": "426dc8d1-e1fc-4d13-b308-7e5cd5bc0f52",
   "metadata": {},
   "source": [
    "In order to do so, we will implement a Policy network. Although in general this does not have to be the case, we will use an architecture very similar to the Q-network (two layers with ReLU activation for the hidden layer). Since we have discrete actions, our model will output one value per action, where each value represents the (normalized!) log-probability of selecting that action. *Use the (log-)softmax activation function.*"
   ]
  },
  {
   "cell_type": "code",
   "execution_count": 24,
   "id": "bae19fdd-cfe2-4f1a-b499-a362b6060111",
   "metadata": {},
   "outputs": [],
   "source": [
    "class PolicyNetwork(nn.Module):\n",
    "    \n",
    "    def __init__(self, num_hidden=128):\n",
    "        nn.Module.__init__(self)\n",
    "        self.l1 = nn.Linear(4, num_hidden)\n",
    "        self.l2 = nn.Linear(num_hidden, 2)\n",
    "        self.act1 = nn.ReLU()\n",
    "        self.act2 = nn.LogSoftmax(dim = -1)\n",
    "    def forward(self, x):\n",
    "        x = self.l1(x)\n",
    "        x = self.act1(x)\n",
    "        x = self.l2(x)\n",
    "        out = self.act2(x)\n",
    "        return out"
   ]
  },
  {
   "cell_type": "code",
   "execution_count": 25,
   "id": "e46e95b0-e2bf-4e7e-98a6-fc192b2a7447",
   "metadata": {},
   "outputs": [
    {
     "name": "stdout",
     "output_type": "stream",
     "text": [
      "tensor([[0.4578, 0.5422],\n",
      "        [0.4657, 0.5343],\n",
      "        [0.4563, 0.5437],\n",
      "        [0.4634, 0.5366],\n",
      "        [0.4564, 0.5436],\n",
      "        [0.4725, 0.5275],\n",
      "        [0.4769, 0.5231],\n",
      "        [0.4834, 0.5166],\n",
      "        [0.4797, 0.5203],\n",
      "        [0.4618, 0.5382]], grad_fn=<ExpBackward0>)\n"
     ]
    }
   ],
   "source": [
    "# Let's instantiate and test if it works\n",
    "num_hidden = 128\n",
    "torch.manual_seed(1234)\n",
    "model = PolicyNetwork(num_hidden)\n",
    "\n",
    "x = torch.rand(10, 4)\n",
    "\n",
    "log_p = model(x)\n",
    "\n",
    "# Does the outcome make sense?\n",
    "print(log_p.exp())\n"
   ]
  },
  {
   "cell_type": "markdown",
   "id": "d6a3bf53-63ad-4e9e-bfb2-71e8ab75c817",
   "metadata": {},
   "source": [
    "### 2.2 Monte Carlo REINFORCE"
   ]
  },
  {
   "cell_type": "markdown",
   "id": "b6d2bcbd-79fe-474e-9406-fe06091df5e1",
   "metadata": {},
   "source": [
    "Now we will implement the *Monte Carlo* policy gradient algorithm. Remember from lab 1 that this means that we will estimate returns for states by sample episodes. Compared to DQN, this means that we do *not* perform an update step at every environment step, but only at the end of each episode. This means that we should generate an episode of data, compute the REINFORCE loss (which requires computing the returns) and then perform a gradient step.\n",
    "\n",
    "To help you, we already implemented a few functions that you can (but do not have to) use.\n",
    "\n",
    "* You can use `torch.multinomial` to sample from a categorical distribution.\n",
    "* The REINFORCE loss is defined as $- \\sum_t \\log \\pi_\\theta(a_t|s_t) G_t$, which means that you should compute the (discounted) return $G_t$ for all $t$. Make sure that you do this in **linear time**, otherwise your algorithm will be very slow! Note the - (minus) since you want to maximize return while you want to minimize the loss.\n",
    "* Importantly, you should **normalize the returns** (not the rewards!, e.g. subtract mean and divide by standard deviation within the episode) before computing the loss, or your estimator will have very high variance."
   ]
  },
  {
   "cell_type": "code",
   "execution_count": 26,
   "id": "42e0e27d-2716-4316-b084-43ad23de6a37",
   "metadata": {},
   "outputs": [],
   "source": [
    "from torch.distributions import Categorical\n",
    "import random\n",
    "\n",
    "def select_action(model, state):\n",
    "  # Samples an action according to the probability distribution induced by the model\n",
    "  # Also returns the log_probability\n",
    "  # YOUR CODE HERE\n",
    "    log_p = model(torch.FloatTensor(state))\n",
    "    action = torch.multinomial(torch.exp(log_p), 1).item()\n",
    "    return action, log_p[action]\n",
    "\n",
    "def run_episode(env, model):\n",
    "    episode = []\n",
    "    done = False\n",
    "    state = env.reset()\n",
    "    while not done:\n",
    "        action, log_p = select_action(model, state)\n",
    "        next_state, reward, done, _ = env.step(action)\n",
    "        episode.append((state, action, log_p, reward, next_state))\n",
    "        state = next_state\n",
    "    return episode\n",
    "\n",
    "def compute_reinforce_loss(episode, discount_factor):\n",
    "    # Compute the reinforce loss\n",
    "    # Make sure that your function runs in LINEAR TIME\n",
    "    # Don't forget to normalize your RETURNS (not rewards)\n",
    "    # Note that the rewards/returns should be maximized \n",
    "    # while the loss should be minimized so you need a - somewhere\n",
    "    \n",
    "    # YOUR CODE HERE\n",
    "    returns = []\n",
    "    log_ps = []\n",
    "    G = 0\n",
    "    for _, _, log_p, r, _ in reversed(episode):\n",
    "        G = discount_factor * G + r\n",
    "        returns.append(G)\n",
    "        log_ps.append(log_p)\n",
    "    log_ps = torch.stack(log_ps)\n",
    "    returns = torch.FloatTensor(returns)\n",
    "    returns = (returns - returns.mean())/returns.std()\n",
    "\n",
    "    \n",
    "\n",
    "    loss = - torch.sum(log_ps * returns)\n",
    "    return loss\n",
    "\n",
    "def run_episodes_policy_gradient(model, env, num_episodes, discount_factor, learn_rate):\n",
    "    \n",
    "    optimizer = optim.Adam(model.parameters(), learn_rate)\n",
    "    \n",
    "    episode_durations = []\n",
    "    for i in range(num_episodes):\n",
    "        \n",
    "        # YOUR CODE HERE\n",
    "        episode = run_episode(env, model)\n",
    "        loss = compute_reinforce_loss(episode, discount_factor)\n",
    "        \n",
    "        optimizer.zero_grad()\n",
    "        loss.backward()\n",
    "        optimizer.step()\n",
    "                           \n",
    "        if i % 10 == 0:\n",
    "            print(\"{2} Episode {0} finished after {1} steps\"\n",
    "                  .format(i, len(episode), '\\033[92m' if len(episode) >= 195 else '\\033[99m'))\n",
    "        episode_durations.append(len(episode))\n",
    "        \n",
    "    return episode_durations"
   ]
  },
  {
   "cell_type": "code",
   "execution_count": 28,
   "id": "38b402cc-3829-4275-bdc4-8d75c8602c7e",
   "metadata": {},
   "outputs": [
    {
     "name": "stdout",
     "output_type": "stream",
     "text": [
      "\u001b[99m Episode 0 finished after 13 steps\n",
      "\u001b[99m Episode 10 finished after 11 steps\n",
      "\u001b[99m Episode 20 finished after 12 steps\n",
      "\u001b[99m Episode 30 finished after 13 steps\n",
      "\u001b[99m Episode 40 finished after 15 steps\n",
      "\u001b[99m Episode 50 finished after 19 steps\n",
      "\u001b[99m Episode 60 finished after 142 steps\n",
      "\u001b[99m Episode 70 finished after 77 steps\n",
      "\u001b[99m Episode 80 finished after 123 steps\n",
      "\u001b[99m Episode 90 finished after 43 steps\n",
      "\u001b[92m Episode 100 finished after 200 steps\n",
      "\u001b[92m Episode 110 finished after 200 steps\n",
      "\u001b[99m Episode 120 finished after 186 steps\n",
      "\u001b[99m Episode 130 finished after 143 steps\n",
      "\u001b[99m Episode 140 finished after 97 steps\n",
      "\u001b[92m Episode 150 finished after 198 steps\n",
      "\u001b[92m Episode 160 finished after 200 steps\n",
      "\u001b[92m Episode 170 finished after 200 steps\n",
      "\u001b[92m Episode 180 finished after 200 steps\n",
      "\u001b[92m Episode 190 finished after 200 steps\n",
      "\u001b[92m Episode 200 finished after 200 steps\n",
      "\u001b[92m Episode 210 finished after 200 steps\n",
      "\u001b[92m Episode 220 finished after 200 steps\n",
      "\u001b[92m Episode 230 finished after 200 steps\n",
      "\u001b[92m Episode 240 finished after 200 steps\n",
      "\u001b[99m Episode 250 finished after 115 steps\n",
      "\u001b[99m Episode 260 finished after 62 steps\n",
      "\u001b[99m Episode 270 finished after 23 steps\n",
      "\u001b[99m Episode 280 finished after 23 steps\n",
      "\u001b[99m Episode 290 finished after 22 steps\n",
      "\u001b[92m Episode 300 finished after 200 steps\n",
      "\u001b[92m Episode 310 finished after 200 steps\n",
      "\u001b[92m Episode 320 finished after 200 steps\n",
      "\u001b[92m Episode 330 finished after 200 steps\n",
      "\u001b[92m Episode 340 finished after 200 steps\n",
      "\u001b[92m Episode 350 finished after 200 steps\n",
      "\u001b[92m Episode 360 finished after 200 steps\n",
      "\u001b[92m Episode 370 finished after 200 steps\n",
      "\u001b[92m Episode 380 finished after 200 steps\n",
      "\u001b[92m Episode 390 finished after 200 steps\n",
      "\u001b[92m Episode 400 finished after 200 steps\n",
      "\u001b[92m Episode 410 finished after 200 steps\n",
      "\u001b[92m Episode 420 finished after 200 steps\n",
      "\u001b[92m Episode 430 finished after 200 steps\n",
      "\u001b[92m Episode 440 finished after 200 steps\n",
      "\u001b[92m Episode 450 finished after 200 steps\n",
      "\u001b[92m Episode 460 finished after 200 steps\n",
      "\u001b[92m Episode 470 finished after 200 steps\n",
      "\u001b[92m Episode 480 finished after 200 steps\n",
      "\u001b[92m Episode 490 finished after 200 steps\n"
     ]
    },
    {
     "data": {
      "text/plain": [
       "<matplotlib.legend.Legend at 0x13285e8e0>"
      ]
     },
     "execution_count": 28,
     "metadata": {},
     "output_type": "execute_result"
    },
    {
     "data": {
      "image/png": "[encoded data removed]",
      "text/plain": [
       "<Figure size 432x288 with 1 Axes>"
      ]
     },
     "metadata": {
      "needs_background": "light"
     },
     "output_type": "display_data"
    }
   ],
   "source": [
    "# Feel free to play around with the parameters!\n",
    "num_episodes = 500\n",
    "discount_factor = 0.99\n",
    "learn_rate = 0.01\n",
    "seed = 42\n",
    "random.seed(seed)\n",
    "torch.manual_seed(seed)\n",
    "env.seed(seed)\n",
    "\n",
    "model = PolicyNetwork(num_hidden)\n",
    "\n",
    "episode_durations_policy_gradient = run_episodes_policy_gradient(\n",
    "    model, env, num_episodes, discount_factor, learn_rate)\n",
    "\n",
    "plt.plot(smooth(episode_durations_policy_gradient, 10))\n",
    "plt.title('Episode durations per episode')\n",
    "plt.legend(['Policy gradient'])"
   ]
  },
  {
   "cell_type": "markdown",
   "id": "7a01e91a-3efc-404a-acce-aa713e4e5e57",
   "metadata": {},
   "source": [
    "---\n",
    "## Actor-Critic (7 points)"
   ]
  },
  {
   "cell_type": "markdown",
   "id": "c4a74615-5455-4652-a5e3-b32c73d60201",
   "metadata": {},
   "source": [
    "We will now implement the basic Actor-Critic algorithm, which means that instead of using Monte Carlo returns, we will bootstrap (1-step) returns using a critic (state-value function), so $G_t = R_t + \\gamma V(s_{t+1})$. What happens at the end of the episode? Hint: you may find it useful to have a look at the `train` method for DQN.\n",
    "\n",
    "* Note that we now have to train an actor (policy) and a critic (value network).\n",
    "* We will do this using a single optimizer, which means that we have to sum the loss for the actor and the critic into a single loss term. \n",
    "* For the critic, use the `smooth_l1_loss` like with DQN.\n",
    "* For the actor, the loss should be the REINFORCE loss, but with two differences:\n",
    "    - Instead of the Monte Carlo return $G_t$, use the one step return $G_{t:t+1}$ where the critic is used to bootstrap the value of $s_{t+1}$.\n",
    "    - Instead of normalizing the returns (which can be viewed as using the average as baseline and then scaling), we will use the estimated value $V(s_t)$ as baseline.\n",
    "* **Important**: note that you cannot use `with torch.no_grad():` to compute the critic value (for the current state) since you need gradients to train the critic! However, when using the value to compute the actor loss, you do not want to get gradients of the critic parameters w.r.t. the actor loss (e.g. your target and baseline must be constant)! Therefore, use `v.detach()` on the output of the critic when it is used in the loss term for the actor, this will make sure the value(s) are treated as a constant and no gradients will be backpropagated."
   ]
  },
  {
   "cell_type": "code",
   "execution_count": 30,
   "id": "6508c66a-9757-4b84-8c93-ec4665b5905b",
   "metadata": {},
   "outputs": [
    {
     "name": "stdout",
     "output_type": "stream",
     "text": [
      "Step 0, finished 0 / 10000 episodes, average episode duration of last 100 episodes: nan\n",
      "Step 100, finished 56 / 10000 episodes, average episode duration of last 100 episodes: 24.446428571428573\n",
      "Step 200, finished 135 / 10000 episodes, average episode duration of last 100 episodes: 22.5\n",
      "Step 300, finished 209 / 10000 episodes, average episode duration of last 100 episodes: 21.34\n",
      "Step 400, finished 291 / 10000 episodes, average episode duration of last 100 episodes: 19.8\n",
      "Step 500, finished 352 / 10000 episodes, average episode duration of last 100 episodes: 23.08\n",
      "Step 600, finished 399 / 10000 episodes, average episode duration of last 100 episodes: 28.31\n",
      "Step 700, finished 439 / 10000 episodes, average episode duration of last 100 episodes: 33.12\n",
      "Step 800, finished 472 / 10000 episodes, average episode duration of last 100 episodes: 38.84\n",
      "Step 900, finished 506 / 10000 episodes, average episode duration of last 100 episodes: 44.69\n",
      "Step 1000, finished 538 / 10000 episodes, average episode duration of last 100 episodes: 48.22\n",
      "Step 1100, finished 566 / 10000 episodes, average episode duration of last 100 episodes: 52.59\n",
      "Step 1200, finished 591 / 10000 episodes, average episode duration of last 100 episodes: 53.57\n",
      "Step 1300, finished 618 / 10000 episodes, average episode duration of last 100 episodes: 55.87\n",
      "Step 1400, finished 640 / 10000 episodes, average episode duration of last 100 episodes: 60.14\n",
      "Step 1500, finished 661 / 10000 episodes, average episode duration of last 100 episodes: 64.63\n",
      "Step 1600, finished 686 / 10000 episodes, average episode duration of last 100 episodes: 67.12\n",
      "Step 1700, finished 702 / 10000 episodes, average episode duration of last 100 episodes: 72.18\n",
      "Step 1800, finished 721 / 10000 episodes, average episode duration of last 100 episodes: 75.6\n",
      "Step 1900, finished 740 / 10000 episodes, average episode duration of last 100 episodes: 79.27\n",
      "Step 2000, finished 760 / 10000 episodes, average episode duration of last 100 episodes: 82.05\n",
      "Step 2100, finished 772 / 10000 episodes, average episode duration of last 100 episodes: 86.85\n",
      "Step 2200, finished 788 / 10000 episodes, average episode duration of last 100 episodes: 90.72\n",
      "Step 2300, finished 801 / 10000 episodes, average episode duration of last 100 episodes: 95.44\n",
      "Step 2400, finished 813 / 10000 episodes, average episode duration of last 100 episodes: 102.35\n",
      "Step 2500, finished 826 / 10000 episodes, average episode duration of last 100 episodes: 106.5\n",
      "Step 2600, finished 840 / 10000 episodes, average episode duration of last 100 episodes: 110.0\n",
      "Step 2700, finished 850 / 10000 episodes, average episode duration of last 100 episodes: 112.15\n",
      "Step 2800, finished 861 / 10000 episodes, average episode duration of last 100 episodes: 119.55\n",
      "Step 2900, finished 872 / 10000 episodes, average episode duration of last 100 episodes: 126.75\n",
      "Step 3000, finished 882 / 10000 episodes, average episode duration of last 100 episodes: 132.17\n",
      "Step 3100, finished 894 / 10000 episodes, average episode duration of last 100 episodes: 136.21\n",
      "Step 3200, finished 902 / 10000 episodes, average episode duration of last 100 episodes: 139.88\n",
      "Step 3300, finished 912 / 10000 episodes, average episode duration of last 100 episodes: 143.55\n",
      "Step 3400, finished 923 / 10000 episodes, average episode duration of last 100 episodes: 145.31\n",
      "Step 3500, finished 933 / 10000 episodes, average episode duration of last 100 episodes: 146.35\n",
      "Step 3600, finished 945 / 10000 episodes, average episode duration of last 100 episodes: 152.66\n",
      "Step 3700, finished 953 / 10000 episodes, average episode duration of last 100 episodes: 152.6\n",
      "Step 3800, finished 964 / 10000 episodes, average episode duration of last 100 episodes: 153.44\n",
      "Step 3900, finished 972 / 10000 episodes, average episode duration of last 100 episodes: 155.43\n",
      "Step 4000, finished 982 / 10000 episodes, average episode duration of last 100 episodes: 158.15\n",
      "Step 4100, finished 996 / 10000 episodes, average episode duration of last 100 episodes: 157.67\n",
      "Step 4200, finished 1002 / 10000 episodes, average episode duration of last 100 episodes: 158.4\n",
      "Step 4300, finished 1013 / 10000 episodes, average episode duration of last 100 episodes: 159.27\n",
      "Step 4400, finished 1019 / 10000 episodes, average episode duration of last 100 episodes: 159.82\n",
      "Step 4500, finished 1031 / 10000 episodes, average episode duration of last 100 episodes: 164.12\n",
      "Step 4600, finished 1037 / 10000 episodes, average episode duration of last 100 episodes: 166.38\n",
      "Step 4700, finished 1047 / 10000 episodes, average episode duration of last 100 episodes: 170.44\n",
      "Step 4800, finished 1054 / 10000 episodes, average episode duration of last 100 episodes: 172.66\n",
      "Step 4900, finished 1065 / 10000 episodes, average episode duration of last 100 episodes: 174.1\n",
      "Step 5000, finished 1072 / 10000 episodes, average episode duration of last 100 episodes: 175.58\n",
      "Step 5100, finished 1083 / 10000 episodes, average episode duration of last 100 episodes: 175.45\n",
      "Step 5200, finished 1090 / 10000 episodes, average episode duration of last 100 episodes: 177.49\n",
      "Step 5300, finished 1099 / 10000 episodes, average episode duration of last 100 episodes: 180.97\n",
      "Step 5400, finished 1106 / 10000 episodes, average episode duration of last 100 episodes: 183.38\n",
      "Step 5500, finished 1115 / 10000 episodes, average episode duration of last 100 episodes: 185.37\n",
      "Step 5600, finished 1125 / 10000 episodes, average episode duration of last 100 episodes: 185.52\n",
      "Step 5700, finished 1132 / 10000 episodes, average episode duration of last 100 episodes: 187.14\n",
      "Step 5800, finished 1142 / 10000 episodes, average episode duration of last 100 episodes: 187.86\n",
      "Step 5900, finished 1148 / 10000 episodes, average episode duration of last 100 episodes: 187.83\n",
      "Step 6000, finished 1158 / 10000 episodes, average episode duration of last 100 episodes: 188.96\n",
      "Step 6100, finished 1167 / 10000 episodes, average episode duration of last 100 episodes: 188.17\n",
      "Step 6200, finished 1175 / 10000 episodes, average episode duration of last 100 episodes: 185.94\n",
      "Step 6300, finished 1183 / 10000 episodes, average episode duration of last 100 episodes: 188.43\n",
      "Step 6400, finished 1191 / 10000 episodes, average episode duration of last 100 episodes: 189.64\n",
      "Step 6500, finished 1200 / 10000 episodes, average episode duration of last 100 episodes: 189.13\n",
      "Step 6600, finished 1207 / 10000 episodes, average episode duration of last 100 episodes: 189.13\n",
      "Step 6700, finished 1217 / 10000 episodes, average episode duration of last 100 episodes: 190.03\n",
      "Step 6800, finished 1225 / 10000 episodes, average episode duration of last 100 episodes: 189.07\n",
      "Step 6900, finished 1233 / 10000 episodes, average episode duration of last 100 episodes: 188.97\n",
      "Step 7000, finished 1242 / 10000 episodes, average episode duration of last 100 episodes: 189.51\n",
      "Step 7100, finished 1250 / 10000 episodes, average episode duration of last 100 episodes: 189.15\n",
      "Step 7200, finished 1260 / 10000 episodes, average episode duration of last 100 episodes: 187.73\n",
      "Step 7300, finished 1267 / 10000 episodes, average episode duration of last 100 episodes: 188.91\n",
      "Step 7400, finished 1276 / 10000 episodes, average episode duration of last 100 episodes: 190.97\n",
      "Step 7500, finished 1284 / 10000 episodes, average episode duration of last 100 episodes: 190.56\n",
      "Step 7600, finished 1292 / 10000 episodes, average episode duration of last 100 episodes: 190.58\n",
      "Step 7700, finished 1300 / 10000 episodes, average episode duration of last 100 episodes: 191.79\n",
      "Step 7800, finished 1310 / 10000 episodes, average episode duration of last 100 episodes: 190.13\n",
      "Step 7900, finished 1317 / 10000 episodes, average episode duration of last 100 episodes: 190.41\n",
      "Step 8000, finished 1327 / 10000 episodes, average episode duration of last 100 episodes: 191.49\n",
      "Step 8100, finished 1338 / 10000 episodes, average episode duration of last 100 episodes: 188.93\n",
      "Step 8200, finished 1347 / 10000 episodes, average episode duration of last 100 episodes: 185.71\n",
      "Step 8300, finished 1356 / 10000 episodes, average episode duration of last 100 episodes: 184.28\n",
      "Step 8400, finished 1365 / 10000 episodes, average episode duration of last 100 episodes: 182.17\n",
      "Step 8500, finished 1372 / 10000 episodes, average episode duration of last 100 episodes: 183.49\n",
      "Step 8600, finished 1381 / 10000 episodes, average episode duration of last 100 episodes: 184.15\n",
      "Step 8700, finished 1388 / 10000 episodes, average episode duration of last 100 episodes: 184.12\n",
      "Step 8800, finished 1397 / 10000 episodes, average episode duration of last 100 episodes: 184.12\n",
      "Step 8900, finished 1404 / 10000 episodes, average episode duration of last 100 episodes: 184.12\n",
      "Step 9000, finished 1413 / 10000 episodes, average episode duration of last 100 episodes: 185.72\n",
      "Step 9100, finished 1420 / 10000 episodes, average episode duration of last 100 episodes: 186.21\n",
      "Step 9200, finished 1429 / 10000 episodes, average episode duration of last 100 episodes: 186.55\n",
      "Step 9300, finished 1437 / 10000 episodes, average episode duration of last 100 episodes: 188.27\n",
      "Step 9400, finished 1445 / 10000 episodes, average episode duration of last 100 episodes: 191.81\n",
      "Step 9500, finished 1453 / 10000 episodes, average episode duration of last 100 episodes: 194.86\n",
      "Step 9600, finished 1461 / 10000 episodes, average episode duration of last 100 episodes: 197.6\n",
      "Step 9700, finished 1469 / 10000 episodes, average episode duration of last 100 episodes: 198.15\n",
      "Step 9800, finished 1477 / 10000 episodes, average episode duration of last 100 episodes: 198.15\n",
      "Step 9900, finished 1485 / 10000 episodes, average episode duration of last 100 episodes: 198.15\n"
     ]
    }
   ],
   "source": [
    "class ValueNetwork(nn.Module):\n",
    "    \n",
    "    def __init__(self, num_hidden=128):\n",
    "        nn.Module.__init__(self)\n",
    "        self.l1 = nn.Linear(4, num_hidden)\n",
    "        self.l2 = nn.Linear(num_hidden, 1)\n",
    "        self.act = nn.ReLU()\n",
    "\n",
    "    def forward(self, x):\n",
    "        x = self.l1(x)\n",
    "        x = self.act(x)\n",
    "        out = self.l2(x)\n",
    "        return out\n",
    "\n",
    "def select_action(model, state):\n",
    "    # Samples an action according to the probability distribution induced by the model\n",
    "    # Also returns the log_probability\n",
    "    # YOUR CODE HERE\n",
    "    log_p = model(torch.FloatTensor(state))\n",
    "    \n",
    "    action = torch.multinomial(torch.exp(log_p), 1)\n",
    "    log_p = log_p.gather(1, action).view(-1)\n",
    "    action = action.view(-1)\n",
    "    \n",
    "    # action and log_p should be a 1 dimensional vector\n",
    "    n = len(state)\n",
    "    assert action.size() == (n, )\n",
    "    assert log_p.size() == (n, )\n",
    "    return action, log_p\n",
    "\n",
    "def train_actor_critic(actor, critic, optimizer, log_ps, state, reward, next_state, done, discount_factor):\n",
    "    \n",
    "    # YOUR CODE HERE\n",
    "    value = critic(state).view(-1)\n",
    "    \n",
    "    reward = reward.view(-1)\n",
    "    value_next = critic(next_state).view(-1)\n",
    "    target = reward + discount_factor * value_next * (1 -  done.type(torch.FloatTensor).view(-1))\n",
    "    \n",
    "    error = target - value\n",
    "    value_loss = F.smooth_l1_loss(error, torch.zeros_like(error))\n",
    "    \n",
    "    actor_loss = (-1 * (error.detach() * log_ps)).mean()\n",
    "   \n",
    "    \n",
    "    # The loss is composed of the value_loss (for the critic) and the actor_loss\n",
    "    loss = actor_loss + value_loss\n",
    "\n",
    "    # backpropagation of loss to Neural Network (PyTorch magic)\n",
    "    optimizer.zero_grad()\n",
    "    loss.backward()\n",
    "    torch.nn.utils.clip_grad_norm_(actor.parameters(), 1)\n",
    "    torch.nn.utils.clip_grad_norm_(critic.parameters(), 1)\n",
    "    optimizer.step()\n",
    "    \n",
    "    return loss.item(), value_loss.item(), actor_loss.item()  # Returns a Python scalar, and releases history (similar to .detach())\n",
    "\n",
    "def run_episodes_actor_critic(actor, critic, envs, max_episodes, max_steps, discount_factor, actor_learn_rate, critic_learn_rate):\n",
    "    \n",
    "    # We can use a single optimizer for both the actor and the critic, even with separate learn rates\n",
    "    optimizer = optim.Adam([\n",
    "        {'params': actor.parameters(), 'lr': actor_learn_rate},\n",
    "        {'params': critic.parameters(), 'lr': critic_learn_rate}\n",
    "    ])\n",
    "    \n",
    "    episode_durations = []\n",
    "    state = torch.tensor([env.reset() for env in envs], dtype=torch.float)\n",
    "    current_episode_lengths = torch.zeros(len(envs), dtype=torch.int64)\n",
    "    step_losses = []  # Keep track of losses for plotting\n",
    "    for i in range(max_steps):\n",
    "        \n",
    "        if i % 100 == 0:\n",
    "            print(f\"Step {i}, finished {len(episode_durations)} / {max_episodes} episodes, average episode duration of last 100 episodes: {np.mean(episode_durations[-100:])}\")\n",
    "        \n",
    "        action, log_ps = select_action(actor, state)\n",
    "        next_state, reward, done, _ = zip(*[env.step(a.item()) for env, a in zip(envs, action)])\n",
    "        \n",
    "        next_state = torch.tensor(next_state, dtype=torch.float)\n",
    "        reward = torch.tensor(reward, dtype=torch.float)\n",
    "        done = torch.tensor(done, dtype=torch.uint8)  # Boolean\n",
    "        current_episode_lengths += 1\n",
    "        \n",
    "        losses = train_actor_critic(actor, critic, optimizer, log_ps, state, reward, next_state, done, discount_factor)\n",
    "        \n",
    "        step_losses.append(losses)\n",
    "        \n",
    "        # Reset envs that are done\n",
    "        next_state = torch.tensor([\n",
    "            env.reset() if d else s.tolist()\n",
    "            for env, s, d in zip(envs, next_state, done)\n",
    "        ], dtype=torch.float)\n",
    "        \n",
    "        episode_durations.extend(current_episode_lengths[done])\n",
    "        current_episode_lengths[done] = 0  # PyTorch can also work in place\n",
    "        \n",
    "        state = next_state\n",
    "        \n",
    "        # Check if we have finished sufficiently many episodes\n",
    "        if len(episode_durations) >= max_episodes:\n",
    "            break\n",
    "        \n",
    "    return episode_durations[:max_episodes], step_losses  # In case we want exactly num_episodes returned\n",
    "\n",
    "\n",
    "num_envs = 16\n",
    "max_steps = 10000\n",
    "max_episodes = 10000\n",
    "discount_factor = 0.8\n",
    "lr_actor = 5e-4\n",
    "lr_critic = 5e-4\n",
    "seed = 42\n",
    "\n",
    "actor = PolicyNetwork(num_hidden)\n",
    "critic = ValueNetwork(num_hidden)\n",
    "\n",
    "envs = [gym.envs.make(\"CartPole-v0\") for i in range(num_envs)]\n",
    "\n",
    "for i, env in enumerate(envs):\n",
    "    env.seed(seed + i)\n",
    "torch.manual_seed(seed)\n",
    "\n",
    "episode_durations, step_losses = run_episodes_actor_critic(actor, critic, envs, max_episodes, max_steps, discount_factor, lr_actor, lr_critic)"
   ]
  },
  {
   "cell_type": "code",
   "execution_count": 31,
   "id": "ff24b3ad-e4a0-4225-94bd-71407c2ae774",
   "metadata": {},
   "outputs": [
    {
     "data": {
      "image/png": "[encoded data removed]",
      "text/plain": [
       "<Figure size 432x288 with 1 Axes>"
      ]
     },
     "metadata": {
      "needs_background": "light"
     },
     "output_type": "display_data"
    },
    {
     "data": {
      "image/png": "[encoded data removed]",
      "text/plain": [
       "<Figure size 432x288 with 1 Axes>"
      ]
     },
     "metadata": {
      "needs_background": "light"
     },
     "output_type": "display_data"
    },
    {
     "data": {
      "image/png": "[encoded data removed]",
      "text/plain": [
       "<Figure size 432x288 with 1 Axes>"
      ]
     },
     "metadata": {
      "needs_background": "light"
     },
     "output_type": "display_data"
    }
   ],
   "source": [
    "plt.plot(smooth(episode_durations, 100))\n",
    "plt.title('Episode durations')\n",
    "plt.show()\n",
    "loss, v_loss, a_loss = zip(*step_losses)\n",
    "\n",
    "plt.plot(smooth(v_loss, 100))\n",
    "plt.title('Value loss')\n",
    "plt.show()\n",
    "plt.plot(smooth(a_loss, 100))\n",
    "plt.title('Actor loss')\n",
    "plt.show()"
   ]
  },
  {
   "cell_type": "markdown",
   "id": "8cd1b560-9464-44bb-8c42-b379519dca91",
   "metadata": {},
   "source": [
    "What is the difficulty of training AC algorithms? What could you try to do to overcome these difficulties? Hint: look at some online implementations."
   ]
  },
  {
   "cell_type": "markdown",
   "id": "b924e848-3c7b-4fa1-bb3b-31e5d8ac9785",
   "metadata": {},
   "source": [
    "The difficulty of training AC algorithms is that the the two networks, actor and critic, interact with each other. If one of the networks perfoms poorly this will influnce the other network. A possible solution to this problem is to first train the critic network to obtain a good approximation of the value function and then start training the actor network to learn a better policy."
   ]
  },
  {
   "cell_type": "markdown",
   "id": "982fd7b0-e6f0-4418-a0a3-d5ce22f74251",
   "metadata": {},
   "source": [
    "## Deep Reinforcement Learning (5 bonus points)\n",
    "Note that so far we used the state variables as input. However, the true power of Deep Learning is that we can directly learn from raw inputs, e.g. we can learn to balance the cart pole *by just looking at the screen*. This probably means that you need a deep(er) (convolutional) network, as well as tweaking some parameters, running for more iterations (perhaps on GPU) and do other tricks to stabilize learning. Can you get this to work? This will earn you bonus points!\n",
    "\n",
    "Hints:\n",
    "* You may want to use [Google Colab](https://colab.research.google.com/) such that you can benefit from GPU acceleration.\n",
    "* Even if you don't use Colab, save the weights of your final model and load it in the code here (see example below). Hand in the model file with the .ipynb in a .zip. We likely won't be able to run your training code during grading!\n",
    "* To run the code below, you need to install `torchvision`, for this uncomment the two lines in the cell below or run the command in a terminal. Note: you may need to restart the terminal after installing.\n",
    "* Preprocessing is already done for you, and the observation is the difference between two consequtive frames such that the model can 'see' (angular) speed from a single image. Now do you see why we (sometimes) use the word observation (and not state)?"
   ]
  },
  {
   "cell_type": "code",
   "execution_count": 33,
   "id": "4d1c4180-6311-49cf-9379-989e0f12eebd",
   "metadata": {},
   "outputs": [
    {
     "data": {
      "image/png": "[encoded data removed]",
      "text/plain": [
       "<Figure size 432x288 with 1 Axes>"
      ]
     },
     "metadata": {
      "needs_background": "light"
     },
     "output_type": "display_data"
    },
    {
     "data": {
      "image/png": "[encoded data removed]",
      "text/plain": [
       "<Figure size 432x288 with 1 Axes>"
      ]
     },
     "metadata": {
      "needs_background": "light"
     },
     "output_type": "display_data"
    }
   ],
   "source": [
    "import torchvision.transforms as T\n",
    "from PIL import Image\n",
    "\n",
    "\n",
    "resize = T.Compose([T.ToPILImage(),\n",
    "                    T.Resize(40, interpolation=Image.CUBIC),\n",
    "                    T.ToTensor()])\n",
    "\n",
    "class CartPoleRawEnv(gym.Env):\n",
    "    \n",
    "    def __init__(self, *args, **kwargs):\n",
    "        self._env = gym.make('CartPole-v0', *args, **kwargs)  #.unwrapped\n",
    "        self.action_space = self._env.action_space\n",
    "        screen_height, screen_width = 40, 80  # TODO\n",
    "        self.observation_space = gym.spaces.Box(\n",
    "            low=0, high=255, \n",
    "            shape=(screen_height, screen_width, 3), dtype=np.uint8)\n",
    "    \n",
    "    def seed(self, seed=None):\n",
    "        return self._env.seed(seed)\n",
    "    \n",
    "    def reset(self):\n",
    "        s = self._env.reset()\n",
    "        self.prev_screen = self.screen = self.get_screen()\n",
    "        return self._get_observation()\n",
    "    \n",
    "    def step(self, action):\n",
    "        s, r, done, info = self._env.step(action)\n",
    "        self.prev_screen = self.screen\n",
    "        self.screen = self.get_screen()\n",
    "        return self._get_observation(), r, done, info\n",
    "    \n",
    "    def _get_observation(self):\n",
    "        return self.screen - self.prev_screen\n",
    "    \n",
    "    def _get_cart_location(self, screen_width):\n",
    "        _env = self._env.unwrapped\n",
    "        world_width = _env.x_threshold * 2\n",
    "        scale = screen_width / world_width\n",
    "        return int(_env.state[0] * scale + screen_width / 2.0)  # MIDDLE OF CART\n",
    "\n",
    "    def get_screen(self):\n",
    "        screen = self._env.unwrapped.render(mode='rgb_array').transpose(\n",
    "            (2, 0, 1))  # transpose into torch order (CHW)\n",
    "        # Strip off the top and bottom of the screen\n",
    "        _, screen_height, screen_width = screen.shape\n",
    "        screen = screen[:, screen_height * 4 // 10:screen_height * 8 // 10]\n",
    "        view_width = screen_height * 8 // 10\n",
    "        cart_location = self._get_cart_location(screen_width)\n",
    "        if cart_location < view_width // 2:\n",
    "            slice_range = slice(view_width)\n",
    "        elif cart_location > (screen_width - view_width // 2):\n",
    "            slice_range = slice(-view_width, None)\n",
    "        else:\n",
    "            slice_range = slice(cart_location - view_width // 2,\n",
    "                                cart_location + view_width // 2)\n",
    "        # Strip off the edges, so that we have a square image centered on a cart\n",
    "        screen = screen[:, :, slice_range]\n",
    "        # Convert to float, rescare, convert to torch tensor\n",
    "        # (this doesn't require a copy)\n",
    "        screen = np.ascontiguousarray(screen, dtype=np.float32) / 255\n",
    "        screen = torch.from_numpy(screen)\n",
    "        # Resize, and add a batch dimension (BCHW)\n",
    "        #return screen.unsqueeze(0).to(device)\n",
    "        return resize(screen).unsqueeze(0)\n",
    "    \n",
    "    def close(self):\n",
    "        return self._env.close()\n",
    "\n",
    "raw_env = CartPoleRawEnv()\n",
    "s = raw_env.reset()\n",
    "\n",
    "# \n",
    "s, r, done, _ = raw_env.step(env.action_space.sample())\n",
    "\n",
    "raw_env.reset()\n",
    "plt.figure()\n",
    "plt.imshow(raw_env.get_screen().cpu().squeeze(0).permute(1, 2, 0).numpy(),\n",
    "           interpolation='none')\n",
    "plt.title('Example extracted screen')\n",
    "plt.show()\n",
    "\n",
    "# Observations are (-1, 1) while we need to plot (0, 1) so show (rgb + 1) / 2\n",
    "plt.figure()\n",
    "plt.imshow((s.cpu().squeeze(0).permute(1, 2, 0).numpy() + 1) / 2,\n",
    "           interpolation='none')\n",
    "plt.title('Example observation')\n",
    "plt.show()\n",
    "raw_env.close()"
   ]
  },
  {
   "cell_type": "code",
   "execution_count": 35,
   "id": "08707056-961a-4b6e-92a8-76814d8c5925",
   "metadata": {},
   "outputs": [
    {
     "name": "stdout",
     "output_type": "stream",
     "text": [
      "\u001b[99m Episode 0 finished after 26 steps\n",
      "\u001b[99m Episode 10 finished after 29 steps\n",
      "\u001b[99m Episode 20 finished after 14 steps\n",
      "\u001b[99m Episode 30 finished after 16 steps\n",
      "\u001b[99m Episode 40 finished after 22 steps\n",
      "\u001b[99m Episode 50 finished after 11 steps\n",
      "\u001b[99m Episode 60 finished after 24 steps\n",
      "\u001b[99m Episode 70 finished after 11 steps\n",
      "\u001b[99m Episode 80 finished after 27 steps\n",
      "\u001b[99m Episode 90 finished after 114 steps\n",
      "\u001b[99m Episode 100 finished after 20 steps\n",
      "\u001b[99m Episode 110 finished after 18 steps\n",
      "\u001b[99m Episode 120 finished after 64 steps\n",
      "\u001b[99m Episode 130 finished after 102 steps\n",
      "\u001b[99m Episode 140 finished after 190 steps\n",
      "\u001b[99m Episode 150 finished after 40 steps\n",
      "\u001b[99m Episode 160 finished after 70 steps\n",
      "\u001b[92m Episode 170 finished after 200 steps\n",
      "\u001b[99m Episode 180 finished after 142 steps\n",
      "\u001b[99m Episode 190 finished after 167 steps\n",
      "\u001b[99m Episode 200 finished after 100 steps\n",
      "\u001b[92m Episode 210 finished after 200 steps\n",
      "\u001b[92m Episode 220 finished after 200 steps\n",
      "\u001b[99m Episode 230 finished after 171 steps\n",
      "\u001b[99m Episode 240 finished after 121 steps\n",
      "\u001b[99m Episode 250 finished after 110 steps\n",
      "\u001b[99m Episode 260 finished after 191 steps\n",
      "\u001b[99m Episode 270 finished after 167 steps\n",
      "\u001b[92m Episode 280 finished after 200 steps\n",
      "\u001b[92m Episode 290 finished after 200 steps\n",
      "\u001b[99m Episode 300 finished after 170 steps\n",
      "\u001b[92m Episode 310 finished after 200 steps\n",
      "\u001b[99m Episode 320 finished after 173 steps\n",
      "\u001b[99m Episode 330 finished after 183 steps\n",
      "\u001b[99m Episode 340 finished after 166 steps\n",
      "\u001b[99m Episode 350 finished after 119 steps\n",
      "\u001b[99m Episode 360 finished after 81 steps\n",
      "\u001b[99m Episode 370 finished after 142 steps\n",
      "\u001b[99m Episode 380 finished after 130 steps\n",
      "\u001b[99m Episode 390 finished after 134 steps\n",
      "\u001b[92m Episode 400 finished after 200 steps\n",
      "\u001b[99m Episode 410 finished after 193 steps\n",
      "\u001b[92m Episode 420 finished after 200 steps\n",
      "\u001b[92m Episode 430 finished after 200 steps\n",
      "\u001b[92m Episode 440 finished after 200 steps\n",
      "\u001b[92m Episode 450 finished after 200 steps\n",
      "\u001b[92m Episode 460 finished after 200 steps\n",
      "\u001b[92m Episode 470 finished after 200 steps\n",
      "\u001b[92m Episode 480 finished after 200 steps\n",
      "\u001b[92m Episode 490 finished after 200 steps\n",
      "\u001b[99m Episode 500 finished after 183 steps\n",
      "\u001b[92m Episode 510 finished after 200 steps\n",
      "\u001b[99m Episode 520 finished after 130 steps\n",
      "\u001b[99m Episode 530 finished after 172 steps\n",
      "\u001b[99m Episode 540 finished after 148 steps\n",
      "\u001b[92m Episode 550 finished after 200 steps\n",
      "\u001b[99m Episode 560 finished after 155 steps\n",
      "\u001b[99m Episode 570 finished after 130 steps\n",
      "\u001b[92m Episode 580 finished after 200 steps\n",
      "\u001b[99m Episode 590 finished after 175 steps\n",
      "\u001b[92m Episode 600 finished after 200 steps\n",
      "\u001b[92m Episode 610 finished after 200 steps\n",
      "\u001b[92m Episode 620 finished after 200 steps\n",
      "\u001b[92m Episode 630 finished after 200 steps\n",
      "\u001b[92m Episode 640 finished after 200 steps\n",
      "\u001b[99m Episode 650 finished after 147 steps\n",
      "\u001b[92m Episode 660 finished after 200 steps\n",
      "\u001b[92m Episode 670 finished after 200 steps\n",
      "\u001b[99m Episode 680 finished after 152 steps\n",
      "\u001b[92m Episode 690 finished after 200 steps\n",
      "\u001b[92m Episode 700 finished after 200 steps\n",
      "\u001b[92m Episode 710 finished after 200 steps\n",
      "\u001b[99m Episode 720 finished after 191 steps\n",
      "\u001b[99m Episode 730 finished after 161 steps\n",
      "\u001b[92m Episode 740 finished after 200 steps\n",
      "\u001b[92m Episode 750 finished after 200 steps\n",
      "\u001b[99m Episode 760 finished after 161 steps\n",
      "\u001b[92m Episode 770 finished after 200 steps\n",
      "\u001b[99m Episode 780 finished after 87 steps\n",
      "\u001b[92m Episode 790 finished after 200 steps\n",
      "\u001b[99m Episode 800 finished after 30 steps\n",
      "\u001b[99m Episode 810 finished after 130 steps\n",
      "\u001b[99m Episode 820 finished after 174 steps\n",
      "\u001b[99m Episode 830 finished after 176 steps\n",
      "\u001b[92m Episode 840 finished after 200 steps\n",
      "\u001b[92m Episode 850 finished after 200 steps\n",
      "\u001b[99m Episode 860 finished after 123 steps\n",
      "\u001b[99m Episode 870 finished after 162 steps\n",
      "\u001b[99m Episode 880 finished after 154 steps\n",
      "\u001b[92m Episode 890 finished after 200 steps\n",
      "\u001b[99m Episode 900 finished after 161 steps\n",
      "\u001b[99m Episode 910 finished after 188 steps\n",
      "\u001b[99m Episode 920 finished after 116 steps\n",
      "\u001b[99m Episode 930 finished after 177 steps\n",
      "\u001b[99m Episode 940 finished after 123 steps\n",
      "\u001b[99m Episode 950 finished after 129 steps\n",
      "\u001b[92m Episode 960 finished after 200 steps\n",
      "\u001b[99m Episode 970 finished after 174 steps\n",
      "\u001b[99m Episode 980 finished after 131 steps\n",
      "\u001b[92m Episode 990 finished after 200 steps\n",
      "Saving weights to drl_weights.pt\n"
     ]
    }
   ],
   "source": [
    "# Maybe you should make it a bit deeper?\n",
    "class DeepPolicy(nn.Module):\n",
    "    def __init__(self):\n",
    "        nn.Module.__init__(self)\n",
    "        self.convNet = nn.Sequential(\n",
    "            nn.Conv2d(3, 32, kernel_size=(3, 3), stride=1),\n",
    "            nn.BatchNorm2d(32),\n",
    "            nn.ReLU(),\n",
    "            nn.Conv2d(32, 64, kernel_size=(3, 3), stride=2),\n",
    "            nn.BatchNorm2d(64),\n",
    "            nn.ReLU(),\n",
    "            nn.Conv2d(64, 64, kernel_size=(3, 3), stride=3),\n",
    "            nn.BatchNorm2d(64),\n",
    "            nn.MaxPool2d((2, 2))\n",
    "        )\n",
    "\n",
    "        self.mlp = nn.Sequential(\n",
    "            nn.Linear(1152, 64),\n",
    "            nn.ReLU(),\n",
    "            nn.Linear(64, 2)\n",
    "        )\n",
    "    def forward(self, x):\n",
    "        x = self.convNet(x)\n",
    "        out = self.mlp(x.view(x.size(0), -1))\n",
    "        return F.log_softmax(out, -1)\n",
    "    \n",
    "def drl_select_action(model, state):\n",
    "  # Samples an action according to the probability distribution induced by the model\n",
    "  # Also returns the log_probability\n",
    "  # YOUR CODE HERE\n",
    "    #print(state.shape)\n",
    "    log_p = model(torch.FloatTensor(state))\n",
    "    action = torch.multinomial(torch.exp(log_p), 1).item()\n",
    "    #print(\"aaa\",log_p.shape, action)\n",
    "    return action, log_p[0,action]\n",
    "\n",
    "def drl_run_episode(env, model):\n",
    "    episode = []\n",
    "    done = False\n",
    "    state = env.reset()\n",
    "    while not done:\n",
    "        action, log_p = drl_select_action(model, state)\n",
    "        next_state, reward, done, _ = env.step(action)\n",
    "        episode.append((state, action, log_p, reward, next_state))\n",
    "        state = next_state\n",
    "    return episode\n",
    "\n",
    "def drl_compute_reinforce_loss(episode, discount_factor):\n",
    "    # Compute the reinforce loss\n",
    "    # Make sure that your function runs in LINEAR TIME\n",
    "    # Don't forget to normalize your RETURNS (not rewards)\n",
    "    # Note that the rewards/returns should be maximized \n",
    "    # while the loss should be minimized so you need a - somewhere\n",
    "    \n",
    "    # YOUR CODE HERE\n",
    "    returns = []\n",
    "    log_ps = []\n",
    "    G = 0\n",
    "    for _, _, log_p, r, _ in reversed(episode):\n",
    "        G = discount_factor * G + r\n",
    "        returns.append(G)\n",
    "        log_ps.append(log_p)\n",
    "    log_ps = torch.stack(log_ps)\n",
    "    returns = torch.FloatTensor(returns)\n",
    "    returns = (returns - returns.mean())/returns.std()\n",
    "    \n",
    "    \n",
    "\n",
    "    loss = - torch.sum(log_ps * returns)\n",
    "    return loss\n",
    "\n",
    "\n",
    "def drl_run_episodes_policy_gradient(model, env, num_episodes, discount_factor, learn_rate):\n",
    "    \n",
    "    optimizer = optim.Adam(model.parameters(), learn_rate)\n",
    "    \n",
    "    episode_durations = []\n",
    "    for i in range(num_episodes):\n",
    "        \n",
    "        # YOUR CODE HERE\n",
    "        episode = drl_run_episode(env, model)\n",
    "        loss = drl_compute_reinforce_loss(episode, discount_factor)\n",
    "        \n",
    "        optimizer.zero_grad()\n",
    "        loss.backward()\n",
    "        optimizer.step()\n",
    "                           \n",
    "        if i % 10 == 0:\n",
    "            print(\"{2} Episode {0} finished after {1} steps\"\n",
    "                  .format(i, len(episode), '\\033[92m' if len(episode) >= 195 else '\\033[99m'))\n",
    "        episode_durations.append(len(episode))\n",
    "        \n",
    "    return episode_durations\n",
    "\n",
    "\n",
    "policy = DeepPolicy()\n",
    "\n",
    "filename = 'drl_weights.pt'\n",
    "\n",
    "if os.path.isfile(filename):\n",
    "    print(f\"Loading weights from {filename}\")\n",
    "    weights = torch.load(filename, map_location='cpu')\n",
    "    policy.load_state_dict(weights['policy'])\n",
    "    \n",
    "else:\n",
    "    # Train\n",
    "    \n",
    "    env = CartPoleRawEnv()\n",
    "    num_episodes = 1000\n",
    "    discount_factor = 0.99\n",
    "    learn_rate = 1e-4\n",
    "    seed = 42\n",
    "    random.seed(seed)\n",
    "    torch.manual_seed(seed)\n",
    "    env.seed(seed)\n",
    "    \n",
    "    \n",
    "    episode_durations_policy_gradient = drl_run_episodes_policy_gradient(\n",
    "    policy, env, num_episodes, discount_factor, learn_rate)\n",
    "    ### TODO some training here, maybe? Or run this on a different machine?\n",
    "    print(f\"Saving weights to {filename}\")\n",
    "    torch.save({\n",
    "        # You can add more here if you need, e.g. critic\n",
    "        'policy': policy.state_dict()  # Always save weights rather than objects\n",
    "    },\n",
    "    filename)\n",
    "    \n",
    "def bonus_get_action(x):\n",
    "    return policy(x).exp().multinomial(1)[:, 0]"
   ]
  },
  {
   "cell_type": "code",
   "execution_count": 40,
   "id": "9d26eb4a-491c-4a6d-b6a8-2e6bdbced5c4",
   "metadata": {},
   "outputs": [
    {
     "data": {
      "image/png": "[encoded data removed]",
      "text/plain": [
       "<Figure size 432x288 with 1 Axes>"
      ]
     },
     "metadata": {
      "needs_background": "light"
     },
     "output_type": "display_data"
    }
   ],
   "source": [
    "seed = 42\n",
    "episode_durations = []\n",
    "for i in range(20):  # Not too many since it may take forever to render\n",
    "    test_env = CartPoleRawEnv()\n",
    "    test_env.seed(seed + i)\n",
    "    state = test_env.reset()\n",
    "    done = False\n",
    "    steps = 0\n",
    "    while not done:\n",
    "        steps += 1\n",
    "        with torch.no_grad():\n",
    "            action = bonus_get_action(state).item()\n",
    "        state, reward, done, _ = test_env.step(action)\n",
    "    episode_durations.append(steps)\n",
    "    test_env.close()\n",
    "    \n",
    "plt.plot(smooth(episode_durations, 10))\n",
    "plt.title('Episode durations')\n",
    "plt.show()"
   ]
  }
 ],
 "metadata": {
  "kernelspec": {
   "display_name": "Python 3 (ipykernel)",
   "language": "python",
   "name": "python3"
  },
  "language_info": {
   "codemirror_mode": {
    "name": "ipython",
    "version": 3
   },
   "file_extension": ".py",
   "mimetype": "text/x-python",
   "name": "python",
   "nbconvert_exporter": "python",
   "pygments_lexer": "ipython3",
   "version": "3.8.3"
  }
 },
 "nbformat": 4,
 "nbformat_minor": 5
}
